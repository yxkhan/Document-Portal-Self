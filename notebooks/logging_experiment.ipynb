{
 "cells": [
  {
   "cell_type": "code",
   "execution_count": 1,
   "id": "c5130838",
   "metadata": {},
   "outputs": [
    {
     "name": "stdout",
     "output_type": "stream",
     "text": [
      "All Ok\n"
     ]
    }
   ],
   "source": [
    "print(\"All Ok\")"
   ]
  },
  {
   "cell_type": "markdown",
   "id": "c794a239",
   "metadata": {},
   "source": [
    "#### Understand the Logging"
   ]
  },
  {
   "cell_type": "code",
   "execution_count": 2,
   "id": "6fbdb68b",
   "metadata": {},
   "outputs": [],
   "source": [
    "import logging\n",
    "import os\n",
    "from datetime import datetime"
   ]
  },
  {
   "cell_type": "code",
   "execution_count": 4,
   "id": "d6d2e77b",
   "metadata": {},
   "outputs": [],
   "source": [
    "logs_dir=os.path.join(os.getcwd(), \"logs\") #fetches the current working directory and appends \"logs\" to it"
   ]
  },
  {
   "cell_type": "code",
   "execution_count": 5,
   "id": "29807899",
   "metadata": {},
   "outputs": [
    {
     "data": {
      "text/plain": [
       "'c:\\\\Users\\\\Yaseen Khan\\\\Documents\\\\Data Sceince\\\\DL - LLMOPs\\\\Document-Portal\\\\notebooks\\\\logs'"
      ]
     },
     "execution_count": 5,
     "metadata": {},
     "output_type": "execute_result"
    }
   ],
   "source": [
    "logs_dir"
   ]
  },
  {
   "cell_type": "code",
   "execution_count": 8,
   "id": "7cb0295d",
   "metadata": {},
   "outputs": [],
   "source": [
    "os.makedirs(logs_dir, exist_ok=True) #creates the directory if it does not exist"
   ]
  },
  {
   "cell_type": "code",
   "execution_count": 12,
   "id": "fa5e3557",
   "metadata": {},
   "outputs": [],
   "source": [
    "#Create the LogFile\n",
    "log_file =  f\"{datetime.now().strftime('%Y-%m-%d_%H-%M-%S')}.log\""
   ]
  },
  {
   "cell_type": "code",
   "execution_count": 13,
   "id": "19baab69",
   "metadata": {},
   "outputs": [
    {
     "data": {
      "text/plain": [
       "'2025-08-17_00-31-54.log'"
      ]
     },
     "execution_count": 13,
     "metadata": {},
     "output_type": "execute_result"
    }
   ],
   "source": [
    "log_file"
   ]
  },
  {
   "cell_type": "markdown",
   "id": "e006626f",
   "metadata": {},
   "source": [
    "#today\n",
    "#with today's date log file will be creted\n",
    "\n",
    "#tomorrow\n",
    "#with tomorrow's date log file will be created"
   ]
  },
  {
   "cell_type": "code",
   "execution_count": 14,
   "id": "e7a03009",
   "metadata": {},
   "outputs": [
    {
     "data": {
      "text/plain": [
       "'c:\\\\Users\\\\Yaseen Khan\\\\Documents\\\\Data Sceince\\\\DL - LLMOPs\\\\Document-Portal\\\\notebooks\\\\logs\\\\2025-08-17_00-31-54.log'"
      ]
     },
     "execution_count": 14,
     "metadata": {},
     "output_type": "execute_result"
    }
   ],
   "source": [
    "os.path.join(logs_dir, log_file)"
   ]
  },
  {
   "cell_type": "code",
   "execution_count": null,
   "id": "d87ec8a3",
   "metadata": {},
   "outputs": [],
   "source": [
    "#Final Log File along with the directory/path\n",
    "LOG_FILE=os.path.join(logs_dir, log_file)"
   ]
  },
  {
   "cell_type": "code",
   "execution_count": null,
   "id": "a736c991",
   "metadata": {},
   "outputs": [],
   "source": []
  }
 ],
 "metadata": {
  "kernelspec": {
   "display_name": "env10 (3.10.8)",
   "language": "python",
   "name": "python3"
  },
  "language_info": {
   "codemirror_mode": {
    "name": "ipython",
    "version": 3
   },
   "file_extension": ".py",
   "mimetype": "text/x-python",
   "name": "python",
   "nbconvert_exporter": "python",
   "pygments_lexer": "ipython3",
   "version": "3.10.8"
  }
 },
 "nbformat": 4,
 "nbformat_minor": 5
}
