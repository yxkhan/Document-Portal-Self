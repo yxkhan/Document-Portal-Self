{
 "cells": [
  {
   "cell_type": "code",
   "execution_count": 1,
   "id": "c5130838",
   "metadata": {},
   "outputs": [
    {
     "name": "stdout",
     "output_type": "stream",
     "text": [
      "All Ok\n"
     ]
    }
   ],
   "source": [
    "print(\"All Ok\")"
   ]
  },
  {
   "cell_type": "markdown",
   "id": "c794a239",
   "metadata": {},
   "source": [
    "#### Understand the Logging"
   ]
  },
  {
   "cell_type": "code",
   "execution_count": 2,
   "id": "6fbdb68b",
   "metadata": {},
   "outputs": [],
   "source": [
    "import logging\n",
    "import os\n",
    "from datetime import datetime"
   ]
  },
  {
   "cell_type": "code",
   "execution_count": 4,
   "id": "d6d2e77b",
   "metadata": {},
   "outputs": [],
   "source": [
    "logs_dir=os.path.join(os.getcwd(), \"logs\") #fetches the current working directory and appends \"logs\" to it"
   ]
  },
  {
   "cell_type": "code",
   "execution_count": 5,
   "id": "29807899",
   "metadata": {},
   "outputs": [
    {
     "data": {
      "text/plain": [
       "'c:\\\\Users\\\\Yaseen Khan\\\\Documents\\\\Data Sceince\\\\DL - LLMOPs\\\\Document-Portal\\\\notebooks\\\\logs'"
      ]
     },
     "execution_count": 5,
     "metadata": {},
     "output_type": "execute_result"
    }
   ],
   "source": [
    "logs_dir"
   ]
  },
  {
   "cell_type": "code",
   "execution_count": 8,
   "id": "7cb0295d",
   "metadata": {},
   "outputs": [],
   "source": [
    "os.makedirs(logs_dir, exist_ok=True) #creates the directory if it does not exist"
   ]
  },
  {
   "cell_type": "code",
   "execution_count": null,
   "id": "fa5e3557",
   "metadata": {},
   "outputs": [],
   "source": [
    "#Create the LogFile and the name of the log file would be the current date and time\n",
    "#This will help in keeping the logs organized and easy to find\n",
    "log_file =  f\"{datetime.now().strftime('%Y-%m-%d_%H-%M-%S')}.log\""
   ]
  },
  {
   "cell_type": "code",
   "execution_count": 13,
   "id": "19baab69",
   "metadata": {},
   "outputs": [
    {
     "data": {
      "text/plain": [
       "'2025-08-17_00-31-54.log'"
      ]
     },
     "execution_count": 13,
     "metadata": {},
     "output_type": "execute_result"
    }
   ],
   "source": [
    "log_file"
   ]
  },
  {
   "cell_type": "code",
   "execution_count": 23,
   "id": "3dfe9df2",
   "metadata": {},
   "outputs": [],
   "source": [
    "#today\n",
    "#with today's date log file will be creted\n",
    "\n",
    "#tomorrow\n",
    "#with tomorrow's date log file will be created"
   ]
  },
  {
   "cell_type": "code",
   "execution_count": null,
   "id": "e7a03009",
   "metadata": {},
   "outputs": [
    {
     "data": {
      "text/plain": [
       "'c:\\\\Users\\\\Yaseen Khan\\\\Documents\\\\Data Sceince\\\\DL - LLMOPs\\\\Document-Portal\\\\notebooks\\\\logs\\\\2025-08-17_00-31-54.log'"
      ]
     },
     "execution_count": 14,
     "metadata": {},
     "output_type": "execute_result"
    }
   ],
   "source": [
    "\n",
    "os.path.join(logs_dir, log_file)"
   ]
  },
  {
   "cell_type": "code",
   "execution_count": 16,
   "id": "d87ec8a3",
   "metadata": {},
   "outputs": [],
   "source": [
    "#Final Log File along with the directory/path\n",
    "LOG_FILE_PATH=os.path.join(logs_dir, log_file)"
   ]
  },
  {
   "cell_type": "code",
   "execution_count": null,
   "id": "a736c991",
   "metadata": {},
   "outputs": [],
   "source": [
    "#now lets create a basic logger configuration\n",
    "logging.basicConfig(\n",
    "    filename=LOG_FILE_PATH,\n",
    "    format=\"[ %(asctime)s ] %(levelname)s %(name)s (line:%(lineno)d) - %(message)s\",\n",
    "    level=logging.INFO,\n",
    ")\n",
    "\n",
    "#Format of the message inside the file, 'asctime' means current time 'level name', 'linenumber', 'message'\n",
    "#please refer to python loggin document on Google to understand the parameters used in the above code"
   ]
  },
  {
   "cell_type": "code",
   "execution_count": null,
   "id": "ee0533bf",
   "metadata": {},
   "outputs": [],
   "source": [
    "#Lets call a function to test the logger and give it a name\n",
    "logger=logging.getLogger(\"DocumentPortal\")"
   ]
  },
  {
   "cell_type": "code",
   "execution_count": null,
   "id": "8c652bfb",
   "metadata": {},
   "outputs": [
    {
     "data": {
      "text/plain": [
       "<Logger DocumentPortal (INFO)>"
      ]
     },
     "execution_count": 21,
     "metadata": {},
     "output_type": "execute_result"
    }
   ],
   "source": [
    "logger\n",
    "#This is the object that we will use to log messages"
   ]
  },
  {
   "cell_type": "code",
   "execution_count": 22,
   "id": "da7cdd14",
   "metadata": {},
   "outputs": [],
   "source": [
    "logger.info(\"This is an info message\")"
   ]
  },
  {
   "cell_type": "code",
   "execution_count": null,
   "id": "faa41280",
   "metadata": {},
   "outputs": [],
   "source": []
  }
 ],
 "metadata": {
  "kernelspec": {
   "display_name": "env10 (3.10.8)",
   "language": "python",
   "name": "python3"
  },
  "language_info": {
   "codemirror_mode": {
    "name": "ipython",
    "version": 3
   },
   "file_extension": ".py",
   "mimetype": "text/x-python",
   "name": "python",
   "nbconvert_exporter": "python",
   "pygments_lexer": "ipython3",
   "version": "3.10.8"
  }
 },
 "nbformat": 4,
 "nbformat_minor": 5
}
